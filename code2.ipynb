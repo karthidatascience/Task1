{
  "cells": [
    {
      "cell_type": "code",
      "execution_count": 6,
      "metadata": {
        "id": "pVTl5YrE7tmX",
        "colab": {
          "base_uri": "https://localhost:8080/"
        },
        "outputId": "f3a97095-ff2e-4189-8894-378db26f7687"
      },
      "outputs": [
        {
          "output_type": "stream",
          "name": "stdout",
          "text": [
            "https://www.tesco.com/groceries/en-GB/products/299913390|[['Typical Values', 'Per 100g:', 'Per 25g(%*) Pack']\n",
            "https://www.tesco.com/groceries/en-GB/products/299913390|'Energy', '2162 kJ ', '541 kJ (6%*)', '518 kcal ', '130 kcal (6%*)']\n",
            "https://www.tesco.com/groceries/en-GB/products/299913390|'Fat', '31 g ', '7.7 g (11%*)']\n",
            "https://www.tesco.com/groceries/en-GB/products/299913390|'of which Saturates', '2.5 g ', '0.6 g (3%*)']\n",
            "https://www.tesco.com/groceries/en-GB/products/299913390|'Carbohydrate', '52 g ', '13 g ']\n",
            "https://www.tesco.com/groceries/en-GB/products/299913390|'of which Sugars', '0.4 g ', '&lt;0.1 g (<1%*)']\n",
            "https://www.tesco.com/groceries/en-GB/products/299913390|'Fibre', '3.9 g ', '1.0 g ']\n",
            "https://www.tesco.com/groceries/en-GB/products/299913390|'Protein', '6.4 g ', '1.6 g ']\n",
            "https://www.tesco.com/groceries/en-GB/products/299913390|'Salt', '1.3 g ', '0.34 g (6%*)']\n",
            "https://www.tesco.com/groceries/en-GB/products/299913390|'Each inner pack contains 1 serving', '-', '-']\n",
            "https://www.tesco.com/groceries/en-GB/products/299913390|' * Reference intake of an average adult (8400 kJ/2000 kcal)', '-', '-']]\n",
            "https://www.tesco.com/groceries/en-GB/products/275027686|[['Typical Values', 'Per 100 g', 'Per 5 Chunks (30 g)', '*Reference Intakes']\n",
            "https://www.tesco.com/groceries/en-GB/products/275027686|'Energy', '2232 kJ', '668 kJ', '8400 kJ /']\n",
            "https://www.tesco.com/groceries/en-GB/products/275027686|'-', '534 kcal', '160 kcal', '2000 kcal']\n",
            "https://www.tesco.com/groceries/en-GB/products/275027686|'Fat', '30 g', '9.1 g', '70 g']\n",
            "https://www.tesco.com/groceries/en-GB/products/275027686|'of which Saturates', '18 g', '5.5 g', '20 g']\n",
            "https://www.tesco.com/groceries/en-GB/products/275027686|'Carbohydrate', '57 g', '17 g', '260 g']\n",
            "https://www.tesco.com/groceries/en-GB/products/275027686|'of which Sugars', '56 g', '17 g', '90 g']\n",
            "https://www.tesco.com/groceries/en-GB/products/275027686|'Fibre', '2.1 g', '0.5 g', '-']\n",
            "https://www.tesco.com/groceries/en-GB/products/275027686|'Protein', '7.3 g', '2.1 g', '50 g']\n",
            "https://www.tesco.com/groceries/en-GB/products/275027686|'Salt', '0.24 g', '0.07 g', '6 g']\n",
            "https://www.tesco.com/groceries/en-GB/products/275027686|'*% reference intake of an average adult (8400 kJ / 2000 kcal)', '-', '-', '-']]\n",
            "https://www.tesco.com/groceries/en-GB/products/299913418|[['Typical Values', 'Per 25g', 'Per 25g(%*) Pack']\n",
            "https://www.tesco.com/groceries/en-GB/products/299913418|'Energy', '2162kJ', '541kJ']\n",
            "https://www.tesco.com/groceries/en-GB/products/299913418|'-', '518kcal', '130kcal(6%*)']\n",
            "https://www.tesco.com/groceries/en-GB/products/299913418|'Fat', '31g', '7.7g(11%*)']\n",
            "https://www.tesco.com/groceries/en-GB/products/299913418|'of which Saturates', '2.5g', '0.6g(3%*)']\n",
            "https://www.tesco.com/groceries/en-GB/products/299913418|'Carbohydrate', '52g', '13g']\n",
            "https://www.tesco.com/groceries/en-GB/products/299913418|'of which Sugars', '0.4g', '&lt;0.1g(<1%*)']\n",
            "https://www.tesco.com/groceries/en-GB/products/299913418|'Fibre', '3.9g', '1.0g']\n",
            "https://www.tesco.com/groceries/en-GB/products/299913418|'Protein', '6.4g', '1.6g']\n",
            "https://www.tesco.com/groceries/en-GB/products/299913418|'Salt', '1.3g', '0.34g(6%*)']\n",
            "https://www.tesco.com/groceries/en-GB/products/299913418|'* Reference intake of an average adult (8400 kJ/2000 kcal)', '-', '-']\n",
            "https://www.tesco.com/groceries/en-GB/products/299913418|'Each inner pack contains 1 serving', '-', '-']]\n",
            "https://www.tesco.com/groceries/en-GB/products/284384444|[['Typical Values', 'Per 100 g', 'Per 21 g (approx 4 biscuits)', '*Reference Intakes']\n",
            "https://www.tesco.com/groceries/en-GB/products/284384444|'Energy', '2145 kJ', '450 kJ', '8400 kJ /']\n",
            "https://www.tesco.com/groceries/en-GB/products/284384444|'-', '513 kcal', '108 kcal', '2000 kcal']\n",
            "https://www.tesco.com/groceries/en-GB/products/284384444|'Fat', '26 g', '5.4 g', '70 g']\n",
            "https://www.tesco.com/groceries/en-GB/products/284384444|'of which Saturates', '15 g', '3.1 g', '20 g']\n",
            "https://www.tesco.com/groceries/en-GB/products/284384444|'Carbohydrate', '61 g', '13 g', '260 g']\n",
            "https://www.tesco.com/groceries/en-GB/products/284384444|'of which Sugars', '35 g', '7.4 g', '90 g']\n",
            "https://www.tesco.com/groceries/en-GB/products/284384444|'Fibre', '2.3 g', '0.5 g', '-']\n",
            "https://www.tesco.com/groceries/en-GB/products/284384444|'Protein', '7.5 g', '1.6 g', '50 g']\n",
            "https://www.tesco.com/groceries/en-GB/products/284384444|'Salt', '0.47 g', '0.10 g', '6 g']\n",
            "https://www.tesco.com/groceries/en-GB/products/284384444|'*% reference intake of an average adult (8400 kJ / 2000 kcal)', '-', '-', '-']]\n",
            "https://www.tesco.com/groceries/en-GB/products/259738773|[['Typical Values', 'Per 100g', 'Per 25g(%*) Pack']\n",
            "https://www.tesco.com/groceries/en-GB/products/259738773|'Energy', '2147 kJ ', '537 kJ (6%*)', '514 kcal ', '129 kcal (6%*)']\n",
            "https://www.tesco.com/groceries/en-GB/products/259738773|'Fat', '29 g ', '7.4 g (11%*)']\n",
            "https://www.tesco.com/groceries/en-GB/products/259738773|'of which Saturates', '2.4 g ', '0.6 g (3%*)']\n",
            "https://www.tesco.com/groceries/en-GB/products/259738773|'Carbohydrate', '54 g ', '14 g ']\n",
            "https://www.tesco.com/groceries/en-GB/products/259738773|'of which Sugars', '2.6 g ', '0.6 g (<1%*)']\n",
            "https://www.tesco.com/groceries/en-GB/products/259738773|'Fibre', '3.8 g ', '0.9 g ']\n",
            "https://www.tesco.com/groceries/en-GB/products/259738773|'Protein', '6.3 g ', '1.6 g ']\n",
            "https://www.tesco.com/groceries/en-GB/products/259738773|'Salt', '1.20 g ', '0.29 g (5%*)']\n",
            "https://www.tesco.com/groceries/en-GB/products/259738773|'Each inner pack contains 1 serving', '-', '-']\n",
            "https://www.tesco.com/groceries/en-GB/products/259738773|'* Reference intake of an average adult (8400 kJ/2000 kcal)', '-', '-']]\n",
            "https://www.tesco.com/groceries/en-GB/products/254926800|[['Typical Values', 'Per 100g:', 'Per 25g(%*) Pack:']\n",
            "https://www.tesco.com/groceries/en-GB/products/254926800|'Energy', '2162 kJ ', '541 kJ (6%*)', '518 kcal ', '130 kcal (6%*)']\n",
            "https://www.tesco.com/groceries/en-GB/products/254926800|'Fat', '31 g ', '7.7 g (11%*)']\n",
            "https://www.tesco.com/groceries/en-GB/products/254926800|'of which Saturates', '2.5 g ', '0.6 g (3%*)']\n",
            "https://www.tesco.com/groceries/en-GB/products/254926800|'Carbohydrate', '52 g ', '13 g ']\n",
            "https://www.tesco.com/groceries/en-GB/products/254926800|'of which Sugars', '0.4 g ', '&lt;0.1 g (<1%*)']\n",
            "https://www.tesco.com/groceries/en-GB/products/254926800|'Fibre', '3.9 g ', '1.0 g ']\n",
            "https://www.tesco.com/groceries/en-GB/products/254926800|'Protein', '6.4 g ', '1.6 g ']\n",
            "https://www.tesco.com/groceries/en-GB/products/254926800|'Salt', '1.3 g ', '0.34 g (6%*)']\n",
            "https://www.tesco.com/groceries/en-GB/products/254926800|'Each inner pack contains 1 serving', '-', '-']\n",
            "https://www.tesco.com/groceries/en-GB/products/254926800|'* Reference intake of an average adult (8400 kJ/2000 kcal)', '-', '-']]\n"
          ]
        }
      ],
      "source": [
        "import pandas as pd\n",
        "\n",
        "# Read the Excel file\n",
        "df = pd.read_excel('/content/Book2.xlsx')\n",
        "results = []\n",
        "for index, row in df.iterrows():\n",
        "    nutrifields = row['nutrifields']\n",
        "    url = row['url']\n",
        "    parts = nutrifields.split(\", [\")\n",
        "    for part in parts:\n",
        "        result = f'{url}|{part.strip()}'\n",
        "        print(result)\n",
        "        results.append(result)\n",
        "result_df = pd.DataFrame({'nutrients': results})\n",
        "result_df.to_excel('nutrients.xlsx', index=False)\n"
      ]
    },
    {
      "cell_type": "code",
      "source": [],
      "metadata": {
        "id": "4EBc-oN3zy2E"
      },
      "execution_count": null,
      "outputs": []
    }
  ],
  "metadata": {
    "colab": {
      "provenance": []
    },
    "kernelspec": {
      "display_name": "Python 3",
      "name": "python3"
    },
    "language_info": {
      "name": "python"
    }
  },
  "nbformat": 4,
  "nbformat_minor": 0
}